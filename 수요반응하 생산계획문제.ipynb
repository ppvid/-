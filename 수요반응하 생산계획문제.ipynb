{
 "cells": [
  {
   "cell_type": "code",
   "execution_count": 326,
   "id": "8003124e",
   "metadata": {},
   "outputs": [],
   "source": [
    "UC = [0] + [5]*9 + [25]*7 + [5]*8\n",
    "CAPA=[15,14,16,10,17,16,15,18]\n",
    "inventory = [30,28,32,20,34,32,30,36]\n",
    "SC = 100\n",
    "from ortools.linear_solver import pywraplp\n",
    "solver = pywraplp.Solver.CreateSolver('SCIP')\n",
    "#각 시간별 각 기계의 생산량\n",
    "P={}\n",
    "for i in range(8):\n",
    "    for j in range(1,25):\n",
    "        P[i,j]=solver.IntVar(0, solver.infinity(), 'p[%i,%i]' % (i,j))\n",
    "#각 시간별 각 기계의 가동 여부\n",
    "Y={}\n",
    "for i in range(8):\n",
    "    for j in range(25):\n",
    "        Y[i,j]=solver.BoolVar('x[%i,%i]' % (i,j))\n",
    "#각 시간 말의 각 기계별 재고량\n",
    "I={}\n",
    "for i in range(8):\n",
    "    for j in range(25):\n",
    "        I[i,j]=solver.IntVar(0, solver.infinity(), 'i[%i,%i]' % (i,j))\n",
    "#setup시간 발생 여부\n",
    "S={}\n",
    "for i in range(8):\n",
    "    for j in range(1,25):\n",
    "        S[i,j]=solver.BoolVar('s[%i,%i]' % (i,j))\n",
    "\n"
   ]
  },
  {
   "cell_type": "code",
   "execution_count": 327,
   "id": "389eb3a3",
   "metadata": {},
   "outputs": [],
   "source": [
    "#제약조건1: 각 시간별 생산량은 앞서 쌓인 재고량보다 작거나 같다\n",
    "for i in range(1,8):\n",
    "    for j in range(1,25):\n",
    "        solver.Add(P[i,j] <= I[i,j])\n",
    "#첫 기계는 재고에 의한 생산량 제약 없음\n",
    "#제약조건2: 초기 재고량은 주어진 값과 같다.\n",
    "for i in range(7):\n",
    "    solver.Add(I[i,0] == inventory[i])\n",
    "solver.Add(I[7,0] == 0)  # 마지막 기계의 초기 재고량은 0으로 설정\n",
    "#제약조건3: 각 재고량은 생산량과 이전 재고량의 합으로 계산된다.\n",
    "for i in range(7):\n",
    "    for j in range(1,25):\n",
    "        solver.Add(I[i,j] == I[i,j-1] + P[i,j]- P[i+1,j])\n",
    "#제약조건4: 마지막 재고량은 초기 재고량과 같아야한다.\n",
    "for i in range(7):\n",
    "    solver.Add(I[i,24] == inventory[i])\n",
    "for j in range(1,25):\n",
    "    solver.Add(I[7,j] == I[7,j-1] + P[7,j])  # 마지막 기계의 재고량은 이전 시간의 재고량과 현재 생산량의 합\n",
    "solver.Add(I[7,24] == min(CAPA)*24)  # 마지막 기계의 최종 재고량은 병목공정의 생산량량으로 설정\n",
    "\n",
    "#제약조건5: 각 기계의 생산량은 해당 기계의 가동 여부에 따라 결정된다.\n",
    "for i in range(8):\n",
    "    for j in range(1,25):\n",
    "        solver.Add(P[i,j] <= Y[i,j] * CAPA[i])\n",
    "        solver.Add(P[i,j] >= Y[i,j])#생산이 없는 경우 Y[i,j]는 0이 되게 함\n",
    "#제약조건6: setup 시간은 가동 여부에 따라 결정된다.\n",
    "for i in range(1,8):\n",
    "    for j in range(1,25):\n",
    "        solver.Add(S[i,j]>=Y[i,j]-Y[i-1,j])\n",
    "\n",
    "for i in range(8):\n",
    "    solver.Add(S[i,1] == Y[i,1])  # 첫 번째 기계는 항상 가동되므로 setup 시간은 항상 1\n",
    "    solver.Add(Y[i,0]==0)\n"
   ]
  },
  {
   "cell_type": "code",
   "execution_count": 328,
   "id": "1ba1c8ba",
   "metadata": {},
   "outputs": [
    {
     "name": "stdout",
     "output_type": "stream",
     "text": [
      "Total Cost = 11760.0\n",
      "Solution:\n",
      "Machine 0, Hour 1: Production = 0.0, Setup = 0.0, Inventory = 21.0\n",
      "Machine 0, Hour 2: Production = 15.0, Setup = 0.0, Inventory = 22.0\n",
      "Machine 0, Hour 3: Production = 15.0, Setup = 0.0, Inventory = 23.0\n",
      "Machine 0, Hour 4: Production = 15.0, Setup = 0.0, Inventory = 24.0\n",
      "Machine 0, Hour 5: Production = 15.0, Setup = 0.0, Inventory = 25.0\n",
      "Machine 0, Hour 6: Production = 15.0, Setup = 0.0, Inventory = 26.0\n",
      "Machine 0, Hour 7: Production = 15.0, Setup = 0.0, Inventory = 27.0\n",
      "Machine 0, Hour 8: Production = 15.0, Setup = 0.0, Inventory = 28.0\n",
      "Machine 0, Hour 9: Production = 15.0, Setup = 0.0, Inventory = 29.0\n",
      "Machine 0, Hour 10: Production = 1.0, Setup = 0.0, Inventory = 29.0\n",
      "Machine 0, Hour 11: Production = 1.0, Setup = 0.0, Inventory = 29.0\n",
      "Machine 0, Hour 12: Production = 1.0, Setup = 0.0, Inventory = 29.0\n",
      "Machine 0, Hour 13: Production = 1.0, Setup = 0.0, Inventory = 29.0\n",
      "Machine 0, Hour 14: Production = 1.0, Setup = 0.0, Inventory = 29.0\n",
      "Machine 0, Hour 15: Production = 1.0, Setup = 0.0, Inventory = 29.0\n",
      "Machine 0, Hour 16: Production = 1.0, Setup = 0.0, Inventory = 29.0\n",
      "Machine 0, Hour 17: Production = 8.0, Setup = 0.0, Inventory = 23.0\n",
      "Machine 0, Hour 18: Production = 15.0, Setup = 0.0, Inventory = 24.0\n",
      "Machine 0, Hour 19: Production = 15.0, Setup = 0.0, Inventory = 25.0\n",
      "Machine 0, Hour 20: Production = 15.0, Setup = 0.0, Inventory = 26.0\n",
      "Machine 0, Hour 21: Production = 15.0, Setup = 0.0, Inventory = 27.0\n",
      "Machine 0, Hour 22: Production = 15.0, Setup = 0.0, Inventory = 28.0\n",
      "Machine 0, Hour 23: Production = 15.0, Setup = 0.0, Inventory = 29.0\n",
      "Machine 0, Hour 24: Production = 15.0, Setup = 0.0, Inventory = 30.0\n",
      "Machine 1, Hour 1: Production = 9.0, Setup = 1.0, Inventory = 37.0\n",
      "Machine 1, Hour 2: Production = 14.0, Setup = 0.0, Inventory = 35.0\n",
      "Machine 1, Hour 3: Production = 14.0, Setup = 0.0, Inventory = 33.0\n",
      "Machine 1, Hour 4: Production = 14.0, Setup = 0.0, Inventory = 31.0\n",
      "Machine 1, Hour 5: Production = 14.0, Setup = 0.0, Inventory = 29.0\n",
      "Machine 1, Hour 6: Production = 14.0, Setup = 0.0, Inventory = 27.0\n",
      "Machine 1, Hour 7: Production = 14.0, Setup = 0.0, Inventory = 25.0\n",
      "Machine 1, Hour 8: Production = 14.0, Setup = 0.0, Inventory = 23.0\n",
      "Machine 1, Hour 9: Production = 14.0, Setup = 0.0, Inventory = 21.0\n",
      "Machine 1, Hour 10: Production = 1.0, Setup = 0.0, Inventory = 18.0\n",
      "Machine 1, Hour 11: Production = 1.0, Setup = 0.0, Inventory = 18.0\n",
      "Machine 1, Hour 12: Production = 1.0, Setup = 0.0, Inventory = 18.0\n",
      "Machine 1, Hour 13: Production = 1.0, Setup = 0.0, Inventory = 18.0\n",
      "Machine 1, Hour 14: Production = 1.0, Setup = 0.0, Inventory = 18.0\n",
      "Machine 1, Hour 15: Production = 1.0, Setup = 0.0, Inventory = 18.0\n",
      "Machine 1, Hour 16: Production = 1.0, Setup = 0.0, Inventory = 18.0\n",
      "Machine 1, Hour 17: Production = 14.0, Setup = 0.0, Inventory = 22.0\n",
      "Machine 1, Hour 18: Production = 14.0, Setup = 0.0, Inventory = 25.0\n",
      "Machine 1, Hour 19: Production = 14.0, Setup = 0.0, Inventory = 23.0\n",
      "Machine 1, Hour 20: Production = 14.0, Setup = 0.0, Inventory = 21.0\n",
      "Machine 1, Hour 21: Production = 14.0, Setup = 0.0, Inventory = 19.0\n",
      "Machine 1, Hour 22: Production = 14.0, Setup = 0.0, Inventory = 17.0\n",
      "Machine 1, Hour 23: Production = 14.0, Setup = 0.0, Inventory = 15.0\n",
      "Machine 1, Hour 24: Production = 14.0, Setup = 0.0, Inventory = 28.0\n",
      "Machine 2, Hour 1: Production = 0.0, Setup = 0.0, Inventory = 22.0\n",
      "Machine 2, Hour 2: Production = 16.0, Setup = 0.0, Inventory = 28.0\n",
      "Machine 2, Hour 3: Production = 16.0, Setup = 0.0, Inventory = 34.0\n",
      "Machine 2, Hour 4: Production = 16.0, Setup = 0.0, Inventory = 40.0\n",
      "Machine 2, Hour 5: Production = 16.0, Setup = 0.0, Inventory = 46.0\n",
      "Machine 2, Hour 6: Production = 16.0, Setup = 0.0, Inventory = 52.0\n",
      "Machine 2, Hour 7: Production = 16.0, Setup = 0.0, Inventory = 58.0\n",
      "Machine 2, Hour 8: Production = 16.0, Setup = 0.0, Inventory = 64.0\n",
      "Machine 2, Hour 9: Production = 16.0, Setup = 0.0, Inventory = 70.0\n",
      "Machine 2, Hour 10: Production = 4.0, Setup = 0.0, Inventory = 64.0\n",
      "Machine 2, Hour 11: Production = 1.0, Setup = 0.0, Inventory = 55.0\n",
      "Machine 2, Hour 12: Production = 1.0, Setup = 0.0, Inventory = 46.0\n",
      "Machine 2, Hour 13: Production = 1.0, Setup = 0.0, Inventory = 37.0\n",
      "Machine 2, Hour 14: Production = 1.0, Setup = 0.0, Inventory = 28.0\n",
      "Machine 2, Hour 15: Production = 1.0, Setup = 0.0, Inventory = 19.0\n",
      "Machine 2, Hour 16: Production = 1.0, Setup = 0.0, Inventory = 10.0\n",
      "Machine 2, Hour 17: Production = 10.0, Setup = 0.0, Inventory = 10.0\n",
      "Machine 2, Hour 18: Production = 11.0, Setup = 0.0, Inventory = 11.0\n",
      "Machine 2, Hour 19: Production = 16.0, Setup = 0.0, Inventory = 17.0\n",
      "Machine 2, Hour 20: Production = 16.0, Setup = 0.0, Inventory = 23.0\n",
      "Machine 2, Hour 21: Production = 16.0, Setup = 0.0, Inventory = 29.0\n",
      "Machine 2, Hour 22: Production = 16.0, Setup = 0.0, Inventory = 35.0\n",
      "Machine 2, Hour 23: Production = 16.0, Setup = 0.0, Inventory = 41.0\n",
      "Machine 2, Hour 24: Production = 1.0, Setup = 0.0, Inventory = 32.0\n",
      "Machine 3, Hour 1: Production = 10.0, Setup = 1.0, Inventory = 30.0\n",
      "Machine 3, Hour 2: Production = 10.0, Setup = 0.0, Inventory = 23.0\n",
      "Machine 3, Hour 3: Production = 10.0, Setup = 0.0, Inventory = 32.0\n",
      "Machine 3, Hour 4: Production = 10.0, Setup = 0.0, Inventory = 25.0\n",
      "Machine 3, Hour 5: Production = 10.0, Setup = 0.0, Inventory = 18.0\n",
      "Machine 3, Hour 6: Production = 10.0, Setup = 0.0, Inventory = 11.0\n",
      "Machine 3, Hour 7: Production = 10.0, Setup = 0.0, Inventory = 10.0\n",
      "Machine 3, Hour 8: Production = 10.0, Setup = 0.0, Inventory = 17.0\n",
      "Machine 3, Hour 9: Production = 10.0, Setup = 0.0, Inventory = 10.0\n",
      "Machine 3, Hour 10: Production = 10.0, Setup = 0.0, Inventory = 20.0\n",
      "Machine 3, Hour 11: Production = 10.0, Setup = 0.0, Inventory = 30.0\n",
      "Machine 3, Hour 12: Production = 10.0, Setup = 0.0, Inventory = 40.0\n",
      "Machine 3, Hour 13: Production = 10.0, Setup = 0.0, Inventory = 50.0\n",
      "Machine 3, Hour 14: Production = 10.0, Setup = 0.0, Inventory = 60.0\n",
      "Machine 3, Hour 15: Production = 10.0, Setup = 0.0, Inventory = 66.0\n",
      "Machine 3, Hour 16: Production = 10.0, Setup = 0.0, Inventory = 76.0\n",
      "Machine 3, Hour 17: Production = 10.0, Setup = 0.0, Inventory = 69.0\n",
      "Machine 3, Hour 18: Production = 10.0, Setup = 0.0, Inventory = 62.0\n",
      "Machine 3, Hour 19: Production = 10.0, Setup = 0.0, Inventory = 55.0\n",
      "Machine 3, Hour 20: Production = 10.0, Setup = 0.0, Inventory = 48.0\n",
      "Machine 3, Hour 21: Production = 10.0, Setup = 0.0, Inventory = 41.0\n",
      "Machine 3, Hour 22: Production = 10.0, Setup = 0.0, Inventory = 34.0\n",
      "Machine 3, Hour 23: Production = 10.0, Setup = 0.0, Inventory = 27.0\n",
      "Machine 3, Hour 24: Production = 10.0, Setup = 0.0, Inventory = 20.0\n",
      "Machine 4, Hour 1: Production = 0.0, Setup = 0.0, Inventory = 34.0\n",
      "Machine 4, Hour 2: Production = 17.0, Setup = 0.0, Inventory = 46.0\n",
      "Machine 4, Hour 3: Production = 1.0, Setup = 0.0, Inventory = 31.0\n",
      "Machine 4, Hour 4: Production = 17.0, Setup = 0.0, Inventory = 32.0\n",
      "Machine 4, Hour 5: Production = 17.0, Setup = 0.0, Inventory = 33.0\n",
      "Machine 4, Hour 6: Production = 17.0, Setup = 0.0, Inventory = 34.0\n",
      "Machine 4, Hour 7: Production = 11.0, Setup = 0.0, Inventory = 29.0\n",
      "Machine 4, Hour 8: Production = 3.0, Setup = 0.0, Inventory = 16.0\n",
      "Machine 4, Hour 9: Production = 17.0, Setup = 0.0, Inventory = 17.0\n",
      "Machine 4, Hour 10: Production = 0.0, Setup = 0.0, Inventory = 17.0\n",
      "Machine 4, Hour 11: Production = 0.0, Setup = 0.0, Inventory = 17.0\n",
      "Machine 4, Hour 12: Production = 0.0, Setup = 0.0, Inventory = 17.0\n",
      "Machine 4, Hour 13: Production = 0.0, Setup = 0.0, Inventory = 17.0\n",
      "Machine 4, Hour 14: Production = 0.0, Setup = 0.0, Inventory = 17.0\n",
      "Machine 4, Hour 15: Production = 4.0, Setup = 0.0, Inventory = 21.0\n",
      "Machine 4, Hour 16: Production = 0.0, Setup = 0.0, Inventory = 21.0\n",
      "Machine 4, Hour 17: Production = 17.0, Setup = 0.0, Inventory = 22.0\n",
      "Machine 4, Hour 18: Production = 17.0, Setup = 0.0, Inventory = 28.0\n",
      "Machine 4, Hour 19: Production = 17.0, Setup = 0.0, Inventory = 29.0\n",
      "Machine 4, Hour 20: Production = 17.0, Setup = 0.0, Inventory = 30.0\n",
      "Machine 4, Hour 21: Production = 17.0, Setup = 0.0, Inventory = 31.0\n",
      "Machine 4, Hour 22: Production = 17.0, Setup = 0.0, Inventory = 32.0\n",
      "Machine 4, Hour 23: Production = 17.0, Setup = 0.0, Inventory = 33.0\n",
      "Machine 4, Hour 24: Production = 17.0, Setup = 0.0, Inventory = 34.0\n",
      "Machine 5, Hour 1: Production = 0.0, Setup = 0.0, Inventory = 32.0\n",
      "Machine 5, Hour 2: Production = 5.0, Setup = 0.0, Inventory = 22.0\n",
      "Machine 5, Hour 3: Production = 16.0, Setup = 0.0, Inventory = 23.0\n",
      "Machine 5, Hour 4: Production = 16.0, Setup = 0.0, Inventory = 24.0\n",
      "Machine 5, Hour 5: Production = 16.0, Setup = 0.0, Inventory = 25.0\n",
      "Machine 5, Hour 6: Production = 16.0, Setup = 0.0, Inventory = 26.0\n",
      "Machine 5, Hour 7: Production = 16.0, Setup = 0.0, Inventory = 27.0\n",
      "Machine 5, Hour 8: Production = 16.0, Setup = 0.0, Inventory = 28.0\n",
      "Machine 5, Hour 9: Production = 16.0, Setup = 0.0, Inventory = 29.0\n",
      "Machine 5, Hour 10: Production = 0.0, Setup = 0.0, Inventory = 29.0\n",
      "Machine 5, Hour 11: Production = 0.0, Setup = 0.0, Inventory = 29.0\n",
      "Machine 5, Hour 12: Production = 0.0, Setup = 0.0, Inventory = 29.0\n",
      "Machine 5, Hour 13: Production = 0.0, Setup = 0.0, Inventory = 29.0\n",
      "Machine 5, Hour 14: Production = 0.0, Setup = 0.0, Inventory = 29.0\n",
      "Machine 5, Hour 15: Production = 0.0, Setup = 0.0, Inventory = 29.0\n",
      "Machine 5, Hour 16: Production = 0.0, Setup = 0.0, Inventory = 29.0\n",
      "Machine 5, Hour 17: Production = 16.0, Setup = 0.0, Inventory = 30.0\n",
      "Machine 5, Hour 18: Production = 11.0, Setup = 0.0, Inventory = 26.0\n",
      "Machine 5, Hour 19: Production = 16.0, Setup = 0.0, Inventory = 27.0\n",
      "Machine 5, Hour 20: Production = 16.0, Setup = 0.0, Inventory = 28.0\n",
      "Machine 5, Hour 21: Production = 16.0, Setup = 0.0, Inventory = 29.0\n",
      "Machine 5, Hour 22: Production = 16.0, Setup = 0.0, Inventory = 30.0\n",
      "Machine 5, Hour 23: Production = 16.0, Setup = 0.0, Inventory = 31.0\n",
      "Machine 5, Hour 24: Production = 16.0, Setup = 0.0, Inventory = 32.0\n",
      "Machine 6, Hour 1: Production = 0.0, Setup = 0.0, Inventory = 30.0\n",
      "Machine 6, Hour 2: Production = 15.0, Setup = 0.0, Inventory = 45.0\n",
      "Machine 6, Hour 3: Production = 15.0, Setup = 0.0, Inventory = 42.0\n",
      "Machine 6, Hour 4: Production = 15.0, Setup = 0.0, Inventory = 57.0\n",
      "Machine 6, Hour 5: Production = 15.0, Setup = 0.0, Inventory = 54.0\n",
      "Machine 6, Hour 6: Production = 15.0, Setup = 0.0, Inventory = 63.0\n",
      "Machine 6, Hour 7: Production = 15.0, Setup = 0.0, Inventory = 60.0\n",
      "Machine 6, Hour 8: Production = 15.0, Setup = 0.0, Inventory = 57.0\n",
      "Machine 6, Hour 9: Production = 15.0, Setup = 0.0, Inventory = 54.0\n",
      "Machine 6, Hour 10: Production = 0.0, Setup = 0.0, Inventory = 54.0\n",
      "Machine 6, Hour 11: Production = 0.0, Setup = 0.0, Inventory = 54.0\n",
      "Machine 6, Hour 12: Production = 0.0, Setup = 0.0, Inventory = 54.0\n",
      "Machine 6, Hour 13: Production = 0.0, Setup = 0.0, Inventory = 54.0\n",
      "Machine 6, Hour 14: Production = 0.0, Setup = 0.0, Inventory = 54.0\n",
      "Machine 6, Hour 15: Production = 0.0, Setup = 0.0, Inventory = 54.0\n",
      "Machine 6, Hour 16: Production = 0.0, Setup = 0.0, Inventory = 54.0\n",
      "Machine 6, Hour 17: Production = 15.0, Setup = 0.0, Inventory = 51.0\n",
      "Machine 6, Hour 18: Production = 15.0, Setup = 0.0, Inventory = 48.0\n",
      "Machine 6, Hour 19: Production = 15.0, Setup = 0.0, Inventory = 45.0\n",
      "Machine 6, Hour 20: Production = 15.0, Setup = 0.0, Inventory = 42.0\n",
      "Machine 6, Hour 21: Production = 15.0, Setup = 0.0, Inventory = 39.0\n",
      "Machine 6, Hour 22: Production = 15.0, Setup = 0.0, Inventory = 36.0\n",
      "Machine 6, Hour 23: Production = 15.0, Setup = 0.0, Inventory = 33.0\n",
      "Machine 6, Hour 24: Production = 15.0, Setup = 0.0, Inventory = 30.0\n",
      "Machine 7, Hour 1: Production = 0.0, Setup = 0.0, Inventory = 0.0\n",
      "Machine 7, Hour 2: Production = 0.0, Setup = 0.0, Inventory = 0.0\n",
      "Machine 7, Hour 3: Production = 18.0, Setup = 0.0, Inventory = 18.0\n",
      "Machine 7, Hour 4: Production = 0.0, Setup = 0.0, Inventory = 18.0\n",
      "Machine 7, Hour 5: Production = 18.0, Setup = 0.0, Inventory = 36.0\n",
      "Machine 7, Hour 6: Production = 6.0, Setup = 0.0, Inventory = 42.0\n",
      "Machine 7, Hour 7: Production = 18.0, Setup = 0.0, Inventory = 60.0\n",
      "Machine 7, Hour 8: Production = 18.0, Setup = 0.0, Inventory = 78.0\n",
      "Machine 7, Hour 9: Production = 18.0, Setup = 0.0, Inventory = 96.0\n",
      "Machine 7, Hour 10: Production = 0.0, Setup = 0.0, Inventory = 96.0\n",
      "Machine 7, Hour 11: Production = 0.0, Setup = 0.0, Inventory = 96.0\n",
      "Machine 7, Hour 12: Production = 0.0, Setup = 0.0, Inventory = 96.0\n",
      "Machine 7, Hour 13: Production = 0.0, Setup = 0.0, Inventory = 96.0\n",
      "Machine 7, Hour 14: Production = 0.0, Setup = 0.0, Inventory = 96.0\n",
      "Machine 7, Hour 15: Production = 0.0, Setup = 0.0, Inventory = 96.0\n",
      "Machine 7, Hour 16: Production = 0.0, Setup = 0.0, Inventory = 96.0\n",
      "Machine 7, Hour 17: Production = 18.0, Setup = 0.0, Inventory = 114.0\n",
      "Machine 7, Hour 18: Production = 18.0, Setup = 0.0, Inventory = 132.0\n",
      "Machine 7, Hour 19: Production = 18.0, Setup = 0.0, Inventory = 150.0\n",
      "Machine 7, Hour 20: Production = 18.0, Setup = 0.0, Inventory = 168.0\n",
      "Machine 7, Hour 21: Production = 18.0, Setup = 0.0, Inventory = 186.0\n",
      "Machine 7, Hour 22: Production = 18.0, Setup = 0.0, Inventory = 204.0\n",
      "Machine 7, Hour 23: Production = 18.0, Setup = 0.0, Inventory = 222.0\n",
      "Machine 7, Hour 24: Production = 18.0, Setup = 0.0, Inventory = 240.0\n"
     ]
    }
   ],
   "source": [
    "objective_terms = []\n",
    "for i in range(8):\n",
    "    for j in range(1, 25):\n",
    "        objective_terms.append(UC[j] * P[i,j] + SC * S[i, j])\n",
    "solver.Minimize(solver.Sum(objective_terms))\n",
    "status = solver.Solve()\n",
    "if status == pywraplp.Solver.OPTIMAL or status == pywraplp.Solver.FEASIBLE:\n",
    "    print('Total Cost =', solver.Objective().Value())\n",
    "    print('Solution:')\n",
    "    for i in range(8):\n",
    "        for j in range(1, 25):\n",
    "            print(f'Machine {i}, Hour {j}: Production = {P[i,j].solution_value()}, Setup = {S[i,j].solution_value()}, Inventory = {I[i,j].solution_value()}')\n",
    "\n"
   ]
  },
  {
   "cell_type": "markdown",
   "id": "56c4c72c",
   "metadata": {},
   "source": [
    "| 표현            | 의미                   |\n",
    "| ------------- | -------------------- |\n",
    "| `df.shape`    | `(행 수, 열 수)`를 튜플로 반환 |\n",
    "| `df.shape[0]` | 행(row)의 수            |\n",
    "| `df.shape[1]` | 열(column)의 수         |\n",
    "\n"
   ]
  },
  {
   "cell_type": "code",
   "execution_count": 329,
   "id": "912d420c",
   "metadata": {},
   "outputs": [
    {
     "name": "stdout",
     "output_type": "stream",
     "text": [
      "      1  2  3  4  5\n",
      "1001  1  0  1  1  0\n",
      "1002  1  1  1  0  1\n",
      "1003  0  0  1  1  0\n",
      "1004  0  1  1  1  0\n",
      "1005  1  1  0  1  1\n",
      "1006  1  0  0  1  0\n",
      "1007  1  0  0  0  1\n"
     ]
    }
   ],
   "source": [
    "import pandas as pd\n",
    "import numpy as np\n",
    "#판다스가 엑셀의 데이터를 불러올 때 자동으로 Unnamed: 0 이라는 열을 생성함.\n",
    "#index_col='Unnamed: 0'라는 조건을 붙여 Unnamed: 0 열을 다시 인덱스로 돌아가게 해 보이지 않게 함 \n",
    "#또는 index_col=0을 써도 됨, 'Unnamed: 0'은 그냥 기본값 이름임임\n",
    "df = pd.read_excel(r\"C:\\Users\\paint\\OneDrive\\Desktop\\ex1.xlsx\", index_col='Unnamed: 0')\n",
    "cList=sorted(set(df['주문번호']))\n",
    "pList=sorted(set(df['상품코드']))\n",
    "\n",
    "nClients=len(cList)\n",
    "nProducts=len(pList)\n",
    "\n",
    "#0으로 채워진 DataFrame을 생성\n",
    "#행은 주문번호 리스트, 열은 상품코드 리스트\n",
    "CP_MAT=pd.DataFrame(0,index=cList,columns=pList,dtype=int)\n",
    "\n",
    "#loc는 label기반으로 데이터에 접근하는 방법\n",
    "#df.loc[행이름,열이름]: 지정한 행과 열의 교차점에 있는 데이터를 가져오거나 수정할 수 있음 \n",
    "for i in range(df.shape[0]): #df.shpe[0]은 pandas dataframe의 행 개수를 의미\n",
    "    CP_MAT.loc[df['주문번호'][i],df['상품코드'][i]]=df['수량'][i]\n",
    "CP_MAT_01 =(CP_MAT != 0)*1\n",
    "print(CP_MAT_01)"
   ]
  },
  {
   "cell_type": "markdown",
   "id": "e5bf74d1",
   "metadata": {},
   "source": [
    "주어진 두 사용자 또는 주문에 대한 유사성을 계산   \n",
    "\n",
    " ① 내적 (Dot Product)   \n",
    " v1*v2 = sum(v1[i]*v2[i] for i in range(n))   \n",
    ": 같은 인덱스 위치에 있는 두 리스트의 값을 곱하고 그 결과값들을 더함   \n",
    "\n",
    " ② 벡터의 크기 (Norm)   \n",
    " |v1|=(sum(v1[i]*2 for i in range(n)))**(1/2)   \n",
    " : 각 원소를 제곱한 후 더하고 마지막에 루트 씌움 (벡터의 길이 또는 크기)"
   ]
  },
  {
   "cell_type": "code",
   "execution_count": 330,
   "id": "280f7c70",
   "metadata": {},
   "outputs": [
    {
     "name": "stdout",
     "output_type": "stream",
     "text": [
      "          1001      1002      1003      1004      1005      1006      1007\n",
      "1001  0.000000  0.577350  0.816497  0.666667  0.577350  0.816497  0.408248\n",
      "1002  0.577350  0.000000  0.353553  0.577350  0.750000  0.353553  0.707107\n",
      "1003  0.816497  0.353553  0.000000  0.816497  0.353553  0.500000  0.000000\n",
      "1004  0.666667  0.577350  0.816497  0.000000  0.577350  0.408248  0.000000\n",
      "1005  0.577350  0.750000  0.353553  0.577350  0.000000  0.707107  0.707107\n",
      "1006  0.816497  0.353553  0.500000  0.408248  0.707107  0.000000  0.500000\n",
      "1007  0.408248  0.707107  0.000000  0.000000  0.707107  0.500000  0.000000\n"
     ]
    }
   ],
   "source": [
    "#Similarity 계산 함수 \n",
    "def calSimilarity(v1,v2):\n",
    "    prod,tsum1,tsum2= 0.0,0.0,0.0\n",
    "    #제곱해준 후 루트를 씌워 절댓값으로 만들어준다 \n",
    "    for i in range(len(v1)):\n",
    "        tsum1+=v1[i]*v1[i]\n",
    "        tsum2+=v2[i]*v2[i]\n",
    "        prod+=v1[i]*v2[i]\n",
    "    #벡터의 내적값/벡터의 크기\n",
    "    return prod/(tsum1**(1/2)*tsum2**(1/2))\n",
    "\n",
    "#0으로 채워진 DataFrame 생성성\n",
    "SIMs = pd.DataFrame(0,index=cList,columns=cList, dtype=float)\n",
    "\n",
    "#Similarity Matrix 값 넣기 \n",
    "for i in range(SIMs.shape[0]):\n",
    "    for j in range(SIMs.shape[0]):\n",
    "        if i<j:\n",
    "            #iloc=integer-location based indexing, iloc[행번호, 열번호], iloc[행번호]: 선택된 행 전체\n",
    "            sim_val=calSimilarity(list(CP_MAT_01.iloc[i]),list(CP_MAT_01.iloc[j]))\n",
    "            SIMs.iloc[i,j]= sim_val\n",
    "            SIMs.iloc[j,i]= sim_val\n",
    "print(SIMs)"
   ]
  },
  {
   "cell_type": "markdown",
   "id": "89435f2b",
   "metadata": {},
   "source": [
    "가장 유사한 구매자 찾기   \n",
    "| 코드                      | 결과                          |\n",
    "| ----------------------- | --------------------------- |\n",
    "| `SIMs.iloc[i]`          | i번째 행 (Series, index는 열 이름) |\n",
    "| `SIMs.iloc[i].index`    | 열 이름 리스트 (`columns`)        |\n",
    "| `SIMs.iloc[i].idxmax()` | 가장 유사한 **열의 이름(라벨)**        |\n",
    "| `SIMs.index[i]`         | i번째 행의 **이름(라벨)**           |\n",
    "\n",
    "SIMS.index[i] 를 하면 i번째 행의 이름을 반환하지만 SIMs.iloc[i].index는 특정 행을 뽑아낸 상태로 Series 형태이다.   \n",
    "열에 인덱스가 붙기 때문에 열의 이름을 가져온다 "
   ]
  },
  {
   "cell_type": "code",
   "execution_count": 331,
   "id": "f92f8b6e",
   "metadata": {},
   "outputs": [
    {
     "name": "stdout",
     "output_type": "stream",
     "text": [
      "user1001 and 1003 are similar\n",
      "user1002 and 1005 are similar\n",
      "user1003 and 1001 are similar\n",
      "user1004 and 1003 are similar\n",
      "user1005 and 1002 are similar\n",
      "user1006 and 1001 are similar\n",
      "user1007 and 1002 are similar\n"
     ]
    }
   ],
   "source": [
    "similarone=[]\n",
    "for i in range(nClients):\n",
    "    max_val=max(SIMs.iloc[i])\n",
    "    #list(SIMs.iloc[i])는 해당 행의 데이터만 포함\n",
    "    c_user_id=list(SIMs.iloc[i]).index(max_val) #해당 행의 데이터 중 max값을 가지는 열의 인덱스를 불러옴(정수값)\n",
    "    similarone.append(c_user_id)\n",
    "    print('user%s and %s are similar'%(SIMs.index[i],SIMs.index[c_user_id]))"
   ]
  },
  {
   "cell_type": "markdown",
   "id": "88c0f31d",
   "metadata": {},
   "source": [
    "다른 방식   \n",
    ".idxmax() 사용"
   ]
  },
  {
   "cell_type": "code",
   "execution_count": 332,
   "id": "d55cf5e3",
   "metadata": {},
   "outputs": [
    {
     "name": "stdout",
     "output_type": "stream",
     "text": [
      "user1001 and 1003 are similar\n",
      "user1002 and 1005 are similar\n",
      "user1003 and 1001 are similar\n",
      "user1004 and 1003 are similar\n",
      "user1005 and 1002 are similar\n",
      "user1006 and 1001 are similar\n",
      "user1007 and 1002 are similar\n"
     ]
    }
   ],
   "source": [
    "for i in range(nClients):\n",
    "    c_user_id=SIMs.iloc[i].idxmax()\n",
    "    print('user%s and %s are similar'%(SIMs.index[i],c_user_id))"
   ]
  },
  {
   "cell_type": "markdown",
   "id": "50de4145",
   "metadata": {},
   "source": [
    "상품 추천 함수 작성 "
   ]
  },
  {
   "cell_type": "code",
   "execution_count": 333,
   "id": "6852b287",
   "metadata": {},
   "outputs": [
    {
     "name": "stdout",
     "output_type": "stream",
     "text": [
      "We recommend item 4 for user 1002\n",
      "We recommend item 1 for user 1003\n",
      "We recommend item 3 for user 1005\n",
      "We recommend item 3 for user 1006\n",
      "We recommend item 2 for user 1007\n",
      "We recommend item 3 for user 1007\n"
     ]
    }
   ],
   "source": [
    "for i in range(nClients):\n",
    "    idx=similarone[i]\n",
    "    for j in range(nProducts):\n",
    "        if CP_MAT_01.iloc[i,j]==False and CP_MAT_01.iloc[idx,j]==True:\n",
    "            print('We recommend item %s for user %s'%(CP_MAT.columns[j],CP_MAT.index[i]))"
   ]
  },
  {
   "cell_type": "markdown",
   "id": "4799a25c",
   "metadata": {},
   "source": [
    "## 주문-품목 선정 문제(Digital Assorting System, DAS)   \n",
    "품목(SKU)소분, 각 주문 박스에 품목 할당   \n",
    "Greedy search(일종의 휴리스틱 방법) 사용, 최적해 알고리즘 적용의 경우 큰 문제의 경우 문제 복잡성으로 인해 계산 불가하고 효율적인 휴리스틱 알고리즘의 개발이 요구된다.   \n",
    "|효율적인 휴리스틱 알고리즘 예시                                                     | 설명                                     |\n",
    "| ------------------------------------------------------- | -------------------------------------- |\n",
    "| **가중치 기반 Greedy**                                       | 단순히 커버 수가 아니라, 커버 수 / 제품 인기 등 가중치 고려   |\n",
    "| **Beam Search**                                         | 매 단계마다 여러 후보 유지하면서 병렬적 탐색              |\n",
    "| **Local Search**                                        | Greedy로 초기 해 구한 후, 주변 조합 바꿔서 더 나은 해 찾기 |\n",
    "| **GRASP (Greedy Randomized Adaptive Search Procedure)** | 랜덤성과 적응형 선택을 결합한 탐색 방식                 |\n",
    "| **Genetic Algorithm**                                   | 유전학 원리 기반으로 해를 조합해가며 점진적으로 개선          |\n"
   ]
  },
  {
   "cell_type": "markdown",
   "id": "83287f3f",
   "metadata": {},
   "source": [
    "휴리스틱 -분석 도움 코드(시각화)"
   ]
  },
  {
   "cell_type": "markdown",
   "id": "37704d09",
   "metadata": {},
   "source": [
    "| 옵션                    | 설명                     |\n",
    "| --------------------- | ---------------------- |\n",
    "| `header=0`            | 몇 번째 줄을 열 이름으로 사용할지    |\n",
    "| `index_col=0`         | 첫 번째 열을 인덱스로 사용할지 지정   |\n",
    "| `usecols=\"A:C\"`       | 특정 열만 선택해서 읽기          |\n",
    "| `dtype=str`           | 모든 열을 문자열로 읽기          |\n"
   ]
  },
  {
   "cell_type": "code",
   "execution_count": 334,
   "id": "4374dc9a",
   "metadata": {},
   "outputs": [
    {
     "data": {
      "image/png": "[encoded data removed]",
      "text/plain": [
       "<Figure size 640x480 with 1 Axes>"
      ]
     },
     "metadata": {},
     "output_type": "display_data"
    }
   ],
   "source": [
    "import pandas as pd\n",
    "import matplotlib.pyplot as plt\n",
    "\n",
    "CP_MAT=pd.read_excel(r\"C:\\Users\\paint\\OneDrive\\Desktop\\CP_MAT_01_배포.xlsx\",index_col='Unnamed: 0')\n",
    "CP_MAT=CP_MAT.T #.T는 전치(transpose), 행과 열을 바꿔줌\n",
    "#axis=0,행 중심 연산/ axis=1, 열 중심 연산\n",
    "CP_MAT['total']=CP_MAT.sum(axis=1)\n",
    "#주문하는 품목 수가 많은 순서대로 정렬 \n",
    "CP_MAT=CP_MAT.sort_values(by='total',ascending=False) #내림차순 정렬\n",
    "\n",
    "CP_MAT['total'].plot(kind='bar')\n",
    "plt.title('Involving Orders of Products')\n",
    "plt.xlabel('Products')\n",
    "plt.ylabel('# of Orders')\n",
    "plt.grid(True)\n",
    "plt.show()"
   ]
  },
  {
   "cell_type": "markdown",
   "id": "4ccbab0f",
   "metadata": {},
   "source": [
    "I380500이 가장 많이 주문이 되는 인기 상품이다. > 주문 유도 핵심 상품   \n",
    "비인기 상품은 제거, 리뉴얼, 묶음 판매 대상 고려 가능   \n",
    "막대 높이 차이가 크다면 소수의 상품에 주문이 집중됨. 차이가 적다면 상품 구성이 고르게 소비되고 있음   \n",
    "\n",
    "상위 몇 개 상품이 전체 주문의 대부분을 차지한다면 파레토 법칙(80:20) 적용 가능   \n",
    "*파레토법칙: 전체 결과의 약 80%는 20%의 원인에서 비롯된다.   \n",
    "상위 20%의 중요 요소에 자원 집중, 우선순위 설정, 재고 관리, 프로모션 등을 지원할 수 있다.    "
   ]
  },
  {
   "cell_type": "code",
   "execution_count": 335,
   "id": "e4916e76",
   "metadata": {},
   "outputs": [
    {
     "data": {
      "image/png": "[encoded data removed]",
      "text/plain": [
       "<Figure size 640x480 with 1 Axes>"
      ]
     },
     "metadata": {},
     "output_type": "display_data"
    }
   ],
   "source": [
    "CP_MAT['cumtotal']=CP_MAT['total'].cumsum() #cumulative sum, 데이터를 위에서부터 하나씩 더해서 누적한 값\n",
    "CP_MAT['cumtotal'].plot()\n",
    "plt.title('Cumulative Involving Orders of Products')\n",
    "plt.xlabel('Products')\n",
    "plt.ylabel('Cumulative # of Orders')\n",
    "plt.grid(True)\n",
    "plt.show()"
   ]
  },
  {
   "cell_type": "markdown",
   "id": "8525a70d",
   "metadata": {},
   "source": [
    "| 상황                  | 전략                         |\n",
    "| ------------------- | -------------------------- |\n",
    "| 누적 그래프 초반 기울기 급격함   | 인기 상품 위주 마케팅, 재고 확보, 번들 구성 |\n",
    "| 누적 기여도가 고르게 분포      | 상품 다양성 유지, 전체 품목 고른 관리 필요  |\n",
    "| 80% 도달에 필요한 상품 수 확인 | 파레토 분석 기반 상품군 최적화          |\n"
   ]
  },
  {
   "cell_type": "markdown",
   "id": "b04c7800",
   "metadata": {},
   "source": [
    "주어진 CP_MAT를 가지고 처리 주문수를 최대화하는 제품 5개를 선정하는 방법   \n",
    "### 1. Greedy 커버리지 선택 알고리즘    \n",
    "-각 단계에서 가장 많은 추가 주문을 커버하는 제품을 선택     \n",
    "-5개의 제품이 선택될 때까지 반복    "
   ]
  },
  {
   "cell_type": "markdown",
   "id": "e9f163ac",
   "metadata": {},
   "source": [
    "**상황 A: 부품 창고 / 제품 준비 단계**\n",
    "- 아직 전체 주문을 다 처리할 수는 없지만,   \n",
    "어떤 부품부터 미리 확보하면 좋은지 우선순위를 정하고 싶은 상황   \n",
    "➡ 이 경우:\n",
    "주문을 완전히 커버하지 않더라도,\n",
    "많은 주문에 연관된 부품부터 확보하는 전략이 효율적\n",
    "(그래서 *“Greedy 커버리지”*가 의미 있음)   \n",
    "\n",
    "\n",
    "\n",
    "**상황 B: 출고 준비 / 배송 처리 단계**\n",
    "- 한 주문이라도 완전히 충족되지 않으면 출고가 불가능한 상황   \n",
    "➡ 이 경우:   \n",
    "일부만 커버하는 건 무의미하고,   \n",
    "주문 전체를 커버할 수 있어야만 의미가 있다.   \n",
    "→ 이럴 땐 \"전체를 충족하는 상품 조합\"을 찾아야 하고,\n",
    "Set Cover보다는 Exact Cover나 다른 알고리즘이 필요"
   ]
  },
  {
   "cell_type": "code",
   "execution_count": 336,
   "id": "b71152f8",
   "metadata": {},
   "outputs": [
    {
     "name": "stdout",
     "output_type": "stream",
     "text": [
      "선택된 상품: ['I380500', '00652', '00667', '00674', '00655']\n",
      "커버한 주문 수: 217\n",
      "커버한 주문 번호들: {'O240122000074', 'O240122000578', 'O240122002907', 'O240122002899', 'O240122000232', 'O240122002914', 'O240122002797', 'O240122002847', 'O240122000408', 'O240122000114', 'O240122002864', 'O240122000475', 'O240122002889', 'O240122002809', 'O240122000186', 'O240122002862', 'O240122000080', 'O240122002801', 'O240122000626', 'O240122002803', 'O240122002842', 'O240122000545', 'O240122002881', 'O240122002870', 'O240122002880', 'O240122002887', 'O240122000462', 'O240122002807', 'O240122000498', 'O240122000051', 'O240122002791', 'O240122000510', 'O240122000241', 'O240122000495', 'O240122002863', 'O240122000478', 'O240122000485', 'O240122002929', 'O240122000102', 'O240122002851', 'O240122002826', 'O240122002925', 'O240122000287', 'O240122000625', 'O240122002814', 'O240122002897', 'O240122002874', 'O240122002879', 'O240122002852', 'O240122002855', 'O240122000338', 'O240122002872', 'O240122000095', 'O240122000118', 'O240122002860', 'O240122002896', 'O240122002893', 'O240122002885', 'O240122000472', 'O240122000332', 'O240122002911', 'O240122000586', 'O240122000442', 'O240122002856', 'O240122000425', 'O240122000265', 'O240122002792', 'O240122000384', 'O240122002898', 'O240122002934', 'O240122002894', 'O240122000637', 'O240122002931', 'O240122000288', 'O240122000145', 'O240122000520', 'O240122002857', 'O240122000160', 'O240122002865', 'O240122000281', 'O240122000479', 'O240122000642', 'O240122002827', 'O240122000248', 'O240122000249', 'O240122000482', 'O240122002849', 'O240122002811', 'O240122002905', 'O240122000457', 'O240122002871', 'O240122000094', 'O240122002796', 'O240122002884', 'O240122002891', 'O240122002939', 'O240122002900', 'O240122002933', 'O240122000536', 'O240122002848', 'O240122002904', 'O240122002836', 'O240122002812', 'O240122002936', 'O240122000333', 'O240122002867', 'O240122000672', 'O240122000235', 'O240122002815', 'O240122002903', 'O240122000508', 'O240122002895', 'O240122002844', 'O240122002901', 'O240122002918', 'O240122000467', 'O240122000153', 'O240122002916', 'O240122002873', 'O240122002890', 'O240122002935', 'O240122000445', 'O240122002806', 'O240122000099', 'O240122000679', 'O240122002866', 'O240122002927', 'O240122002800', 'O240122000483', 'O240122002830', 'O240122000469', 'O240122000111', 'O240122000656', 'O240122002886', 'O240122000431', 'O240122002868', 'O240122002921', 'O240122000557', 'O240122002795', 'O240122002858', 'O240122002824', 'O240122002906', 'O240122002794', 'O240122000481', 'O240122000418', 'O240122002902', 'O240122000555', 'O240122002928', 'O240122002912', 'O240122002909', 'O240122000128', 'O240122000571', 'O240122002818', 'O240122002859', 'O240122002924', 'O240122002843', 'O240122000680', 'O240122002837', 'O240122002915', 'O240122000057', 'O240122002938', 'O240122002853', 'O240122000689', 'O240122002808', 'O240122002883', 'O240122002789', 'O240122000459', 'O240122002861', 'O240122002825', 'O240122002810', 'O240122002845', 'O240122000504', 'O240122002819', 'O240122000245', 'O240122000243', 'O240122000534', 'O240122002799', 'O240122002798', 'O240122002788', 'O240122002832', 'O240122002834', 'O240122002923', 'O240122002833', 'O240122000602', 'O240122002892', 'O240122000037', 'O240122000437', 'O240122002877', 'O240122000169', 'O240122002850', 'O240122002875', 'O240122002817', 'O240122002917', 'O240122002878', 'O240122002823', 'O240122002940', 'O240122000456', 'O240122000690', 'O240122002882', 'O240122002908', 'O240122002922', 'O240122002930', 'O240122002854', 'O240122000558', 'O240122002831', 'O240122002876', 'O240122002822', 'O240122002913', 'O240122002919', 'O240122002888', 'O240122002816', 'O240122002926', 'O240122002932', 'O240122000300', 'O240122000484', 'O240122002937', 'O240122000400'}\n"
     ]
    }
   ],
   "source": [
    "selected_products = []\n",
    "covered_orders = set()\n",
    "order_cols = CP_MAT.columns.drop(['total', 'cumtotal'])  # 주문 번호들만 추출\n",
    "\n",
    "for _ in range(5):  # 5개 상품 선택\n",
    "    best_product = None\n",
    "    best_new_coverage = 0\n",
    "    best_orders = set()\n",
    "\n",
    "    for product in CP_MAT.index:\n",
    "        if product in selected_products:\n",
    "            continue\n",
    "\n",
    "        # 이 상품이 포함된 주문 번호\n",
    "        product_orders = set(CP_MAT.loc[product, order_cols][CP_MAT.loc[product, order_cols] == 1].index)\n",
    "        new_coverage = product_orders - covered_orders\n",
    "\n",
    "        if len(new_coverage) > best_new_coverage:\n",
    "            best_new_coverage = len(new_coverage)\n",
    "            best_product = product\n",
    "            best_orders = product_orders\n",
    "\n",
    "    if best_product is not None:\n",
    "        selected_products.append(best_product)\n",
    "        covered_orders.update(best_orders)\n",
    "\n",
    "print(\"선택된 상품:\", selected_products)\n",
    "print(\"커버한 주문 수:\", len(covered_orders))\n",
    "print(\"커버한 주문 번호들:\", covered_orders)\n"
   ]
  },
  {
   "cell_type": "markdown",
   "id": "9972a35c",
   "metadata": {},
   "source": [
    "주문 기여도 적용하기, 각 주문에 차지하는 비중 합 "
   ]
  },
  {
   "cell_type": "code",
   "execution_count": null,
   "id": "ee3bf1e0",
   "metadata": {},
   "outputs": [],
   "source": []
  },
  {
   "cell_type": "markdown",
   "id": "201cf6d1",
   "metadata": {},
   "source": [
    "### K out N Constraints Modeling(정수 계획)"
   ]
  },
  {
   "cell_type": "markdown",
   "id": "83ce6218",
   "metadata": {},
   "source": [
    "| 구분 | Greedy Search | 수학 모델 (정수계획 등) |\n",
    "| -- | ------------- | -------------- |\n",
    "| 방식 | 탐색 기반 휴리스틱    | 수식 기반 최적화      |\n",
    "| 목적 | 근사해를 빠르게 찾음   | 최적해를 정확히 찾음    |\n",
    "| 장점 | 계산 빠름, 구현 쉬움  | 최적해 보장         |\n",
    "| 단점 | 최적 아님         | 큰 문제에서는 계산 불가  |\n"
   ]
  },
  {
   "cell_type": "code",
   "execution_count": 337,
   "id": "58bd5fd0",
   "metadata": {},
   "outputs": [
    {
     "name": "stdout",
     "output_type": "stream",
     "text": [
      "219 27\n"
     ]
    },
    {
     "name": "stderr",
     "output_type": "stream",
     "text": [
      "C:\\Users\\paint\\AppData\\Local\\Temp\\ipykernel_25096\\2120990130.py:11: FutureWarning: Downcasting object dtype arrays on .fillna, .ffill, .bfill is deprecated and will change in a future version. Call result.infer_objects(copy=False) instead. To opt-in to the future behavior, set `pd.set_option('future.no_silent_downcasting', True)`\n",
      "  CP_MAT = pd.DataFrame(index=oList, columns=pList).fillna(0)\n"
     ]
    }
   ],
   "source": [
    "import pandas as pd\n",
    "import numpy as np\n",
    "ndf=pd.read_excel(r'C:\\Users\\paint\\OneDrive\\Desktop\\pr1.xlsx',header=0,index_col='Unnamed: 0')\n",
    "oList = sorted(set(ndf['주문번호']))\n",
    "pList = sorted(set(ndf['상품코드']))\n",
    "\n",
    "nOrders = len(oList)\n",
    "nProducts = len(pList)\n",
    "print(nOrders,nProducts)\n",
    "\n",
    "CP_MAT = pd.DataFrame(index=oList, columns=pList).fillna(0)\n",
    "#.shape : (행 개수, 열 개수)를 튜플로 반환\n",
    "#.shape[0] : 행 개수(데이터 수)\n",
    "for i in range(ndf.shape[0]):  \n",
    "    CP_MAT.loc[ndf['주문번호'][i],ndf['상품코드'][i]]=ndf['수량'][i]\n",
    "CP_MAT_01=(CP_MAT !=0)*1"
   ]
  },
  {
   "cell_type": "code",
   "execution_count": 338,
   "id": "ac22dcf2",
   "metadata": {},
   "outputs": [
    {
     "name": "stdout",
     "output_type": "stream",
     "text": [
      "92.0\n",
      "00652\n",
      "00667\n",
      "I380500\n",
      "O240122000094\n",
      "O240122000118\n",
      "O240122000235\n",
      "O240122000408\n",
      "O240122002788\n",
      "O240122002789\n",
      "O240122002791\n",
      "O240122002792\n",
      "O240122002794\n",
      "O240122002795\n",
      "O240122002796\n",
      "O240122002797\n",
      "O240122002798\n",
      "O240122002799\n",
      "O240122002800\n",
      "O240122002806\n",
      "O240122002807\n",
      "O240122002808\n",
      "O240122002809\n",
      "O240122002811\n",
      "O240122002812\n",
      "O240122002814\n",
      "O240122002816\n",
      "O240122002817\n",
      "O240122002818\n",
      "O240122002819\n",
      "O240122002823\n",
      "O240122002824\n",
      "O240122002825\n",
      "O240122002826\n",
      "O240122002827\n",
      "O240122002830\n",
      "O240122002831\n",
      "O240122002832\n",
      "O240122002833\n",
      "O240122002834\n",
      "O240122002836\n",
      "O240122002837\n",
      "O240122002842\n",
      "O240122002843\n",
      "O240122002844\n",
      "O240122002845\n",
      "O240122002847\n",
      "O240122002848\n",
      "O240122002849\n",
      "O240122002850\n",
      "O240122002851\n",
      "O240122002852\n",
      "O240122002856\n",
      "O240122002863\n",
      "O240122002864\n",
      "O240122002865\n",
      "O240122002867\n",
      "O240122002870\n",
      "O240122002873\n",
      "O240122002875\n",
      "O240122002878\n",
      "O240122002879\n",
      "O240122002885\n",
      "O240122002887\n",
      "O240122002888\n",
      "O240122002889\n",
      "O240122002890\n",
      "O240122002891\n",
      "O240122002892\n",
      "O240122002893\n",
      "O240122002894\n",
      "O240122002896\n",
      "O240122002898\n",
      "O240122002900\n",
      "O240122002904\n",
      "O240122002907\n",
      "O240122002908\n",
      "O240122002909\n",
      "O240122002911\n",
      "O240122002914\n",
      "O240122002915\n",
      "O240122002922\n",
      "O240122002924\n",
      "O240122002925\n",
      "O240122002926\n",
      "O240122002928\n",
      "O240122002929\n",
      "O240122002930\n",
      "O240122002931\n",
      "O240122002933\n",
      "O240122002934\n",
      "O240122002935\n",
      "O240122002936\n",
      "O240122002937\n",
      "O240122002939\n",
      "O240122002940\n"
     ]
    }
   ],
   "source": [
    "from ortools.linear_solver import pywraplp\n",
    "solver=pywraplp.Solver.CreateSolver(\"SAT\")\n",
    "BIGM=1000000\n",
    "KK=3\n",
    "#제품 선택 여부 \n",
    "X={}\n",
    "for i in range(nProducts):\n",
    "    X[i]=solver.IntVar(0,1,'X[%i]'%i)\n",
    "#주문 처리 여부 \n",
    "Y={}\n",
    "for i in range(nOrders):\n",
    "    Y[i]=solver.BoolVar('Y[%i]'%i)\n",
    "#제약조건\n",
    "#선정된 K 제품으로 주문이 처리될 수 있는지 확인\n",
    "for i in range(nOrders):\n",
    "    selected=[]\n",
    "    for j in range(nProducts):\n",
    "        if CP_MAT_01.iloc[i,j]==True:\n",
    "            selected.append(j)\n",
    "    solver.Add(sum(X[k] for k in selected)+Y[i]*BIGM>=len(selected))\n",
    "\n",
    "#선정되는 제품 수 K개\n",
    "solver.Add(solver.Sum(X[i] for i in range(nProducts))==KK)\n",
    "\n",
    "solver.Minimize(solver.Sum(Y[i] for i in range(nOrders)))\n",
    "status=solver.Solve()\n",
    "if status==pywraplp.Solver.OPTIMAL or status==pywraplp.Solver.FEASIBLE:\n",
    "    #Y[i]가 1이면 주문이 처리되지 않은 것 \n",
    "    print(nOrders-solver.Objective().Value())\n",
    "    for i in range(nProducts):\n",
    "        if X[i].solution_value()>0.5:\n",
    "            print(CP_MAT_01.columns[i])\n",
    "    for i in range(nOrders):\n",
    "        #Y[i]가 0이면 주문이 처리된 것\n",
    "        if Y[i].solution_value()<0.5:\n",
    "            print(CP_MAT_01.index[i])\n",
    "else:\n",
    "    print('a')"
   ]
  }
 ],
 "metadata": {
  "kernelspec": {
   "display_name": "old_env",
   "language": "python",
   "name": "python3"
  },
  "language_info": {
   "codemirror_mode": {
    "name": "ipython",
    "version": 3
   },
   "file_extension": ".py",
   "mimetype": "text/x-python",
   "name": "python",
   "nbconvert_exporter": "python",
   "pygments_lexer": "ipython3",
   "version": "3.9.21"
  }
 },
 "nbformat": 4,
 "nbformat_minor": 5
}
