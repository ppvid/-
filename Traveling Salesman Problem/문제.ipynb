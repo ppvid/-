{
 "cells": [
  {
   "cell_type": "markdown",
   "id": "d4786750",
   "metadata": {},
   "source": [
    "### 1-1. 수리모형 기반 풀이(MTZ)"
   ]
  },
  {
   "cell_type": "code",
   "execution_count": 3,
   "id": "4f1e8381",
   "metadata": {},
   "outputs": [
    {
     "name": "stdout",
     "output_type": "stream",
     "text": [
      "Total distance = 750.0m\n",
      "Basin -> Mena\n",
      "Wald -> Basin\n",
      "Bon -> Wald\n",
      "Mena -> Kiln\n",
      "Kiln -> Bon\n"
     ]
    }
   ],
   "source": [
    "from ortools.linear_solver import pywraplp\n",
    "solver=pywraplp.Solver.CreateSolver('SCIP')\n",
    "def create_model():\n",
    "    data={}\n",
    "    data['distance']=[[0,125,225,155,215],\n",
    "                      [125,0,85,115,135],\n",
    "                      [225,85,0,165,190],\n",
    "                      [155,112,165,0,195],\n",
    "                      [215,135,190,195,0]]\n",
    "    data['city']=['Basin','Wald','Bon','Mena','Kiln']\n",
    "    data['vehicle']=1\n",
    "    data['depot']=0\n",
    "    return data\n",
    "    \n",
    "def print_solution(data,Data,x,status):\n",
    "    if status==pywraplp.Solver.OPTIMAL:\n",
    "        print(f'Total distance = {solver.Objective().Value()}m')\n",
    "        for i in range(Data):\n",
    "            for j in range(Data):\n",
    "                if i!=j and x[i,j].solution_value() !=0:\n",
    "                    print(data['city'][i],'->',data['city'][j])\n",
    "\n",
    "def main():\n",
    "    data=create_model()\n",
    "    x={}\n",
    "    u={}\n",
    "    Data=len(data['distance'])\n",
    "    for i in range(Data):\n",
    "        u[i]=solver.IntVar(0,solver.infinity(),'u[%i]'%i)\n",
    "        for j in range(Data):\n",
    "            if i!=j:\n",
    "                x[i,j]= solver.BoolVar(f'x[{i},{j}]')\n",
    "    \n",
    "    for i in range(Data):\n",
    "        solver.Add(sum(x[i,j] for j in range(Data) if i!=j)==1)\n",
    "    for j in range(Data):\n",
    "        solver.Add(sum(x[i,j] for i in range(Data) if i!=j)==1)\n",
    "    for i in range(1,Data):\n",
    "        for j in range(1,Data):\n",
    "            if i!=j:\n",
    "                solver.Add(u[i]-u[j]+Data*x[i,j]<=(Data-1))\n",
    "    solver.Add(u[0]==0)\n",
    "    obj=[]\n",
    "    for i in range(Data):\n",
    "        for j in range(Data):\n",
    "            if i!=j:\n",
    "                obj.append(data['distance'][i][j]*x[i,j])\n",
    "    solver.Minimize(sum(obj))\n",
    "    status=solver.Solve()\n",
    "    return print_solution(data,Data,x,status)\n",
    "\n",
    "if __name__=='__main__':\n",
    "    main()"
   ]
  },
  {
   "cell_type": "markdown",
   "id": "0fe1f286",
   "metadata": {},
   "source": [
    "### 1-2 Ortools code 활용 풀이 "
   ]
  },
  {
   "cell_type": "code",
   "execution_count": 4,
   "id": "795e9822",
   "metadata": {},
   "outputs": [
    {
     "name": "stdout",
     "output_type": "stream",
     "text": [
      "Total distance : 750m\n",
      "Routing of Vehicle 0 :\n",
      "0->3->4->2->1->0\n",
      "Distance of Route: 750m\n"
     ]
    }
   ],
   "source": [
    "from ortools.constraint_solver import routing_enums_pb2\n",
    "from ortools.constraint_solver import pywrapcp\n",
    "def create_model():\n",
    "    data={}\n",
    "    M=1000000\n",
    "    data['distance']=[[0,125,225,155,215],\n",
    "                      [125,0,85,115,135],\n",
    "                      [225,85,0,165,190],\n",
    "                      [155,112,165,0,195],\n",
    "                      [215,135,190,195,0]]\n",
    "    data['vehicle']=1\n",
    "    data['depot']=0\n",
    "    return data\n",
    "\n",
    "def print_solution(manager,routing,solution):\n",
    "    print(f'Total distance : {solution.ObjectiveValue()}m')\n",
    "    index=routing.Start(0)\n",
    "    plan_output =f'Routing of Vehicle 0 :\\n'\n",
    "    route_distance=0\n",
    "    while not routing.IsEnd(index):\n",
    "        plan_output+=f'{manager.IndexToNode(index)}->'\n",
    "        previous_index=index\n",
    "        index=solution.Value(routing.NextVar(index))\n",
    "        route_distance+=routing.GetArcCostForVehicle(\n",
    "                previous_index,index,0\n",
    "            )\n",
    "    plan_output+=f'{manager.IndexToNode(index)}\\n'\n",
    "    plan_output+=f'Distance of Route: {route_distance}m'\n",
    "    print(plan_output)\n",
    "\n",
    "def main():\n",
    "    data=create_model()\n",
    "    manager=pywrapcp.RoutingIndexManager(\n",
    "        len(data['distance']),data['vehicle'],data['depot']\n",
    "    )\n",
    "    routing=pywrapcp.RoutingModel(manager)\n",
    "\n",
    "    def distance_callback(from_index,to_index):\n",
    "        from_node=manager.IndexToNode(from_index)\n",
    "        to_node=manager.IndexToNode(to_index)\n",
    "        return data['distance'][from_node][to_node]\n",
    "    transit_callback_index=routing.RegisterTransitCallback(distance_callback)\n",
    "    routing.SetArcCostEvaluatorOfAllVehicles(transit_callback_index)\n",
    "\n",
    "    search_parameter=pywrapcp.DefaultRoutingSearchParameters()\n",
    "    search_parameter.first_solution_strategy= routing_enums_pb2.FirstSolutionStrategy.PATH_CHEAPEST_ARC\n",
    "\n",
    "\n",
    "    solution=routing.SolveWithParameters(search_parameter)\n",
    "    if solution:\n",
    "        print_solution(manager,routing,solution)\n",
    "\n",
    "\n",
    "if __name__=='__main__':\n",
    "    main()"
   ]
  },
  {
   "cell_type": "markdown",
   "id": "a60611b8",
   "metadata": {},
   "source": [
    "### 1-3. Nearest Neighbor 경로 계산   \n",
    "출발: Basin   \n",
    "->Wald 선택(거리:125)   \n",
    "->Bon 선택(거리: 85)   \n",
    "->Mena 선택(거리: 165)   \n",
    "->Kiln 선택(거리: 195)   \n",
    "->Basin 복귀(거리: 215)   "
   ]
  },
  {
   "cell_type": "code",
   "execution_count": 5,
   "id": "e2c8d2af",
   "metadata": {},
   "outputs": [
    {
     "name": "stdout",
     "output_type": "stream",
     "text": [
      "Total distance: 785m\n"
     ]
    }
   ],
   "source": [
    "print(f'Total distance: {125+85+165+195+215}m')"
   ]
  },
  {
   "cell_type": "code",
   "execution_count": 6,
   "id": "c3c10df3",
   "metadata": {},
   "outputs": [
    {
     "name": "stdout",
     "output_type": "stream",
     "text": [
      "route =  [0, 1, 2, 3, 4]\n",
      "total length =  785\n"
     ]
    }
   ],
   "source": [
    "M = 100000\n",
    "\n",
    "data = [\n",
    "          [M, 125, 225, 155, 215],\n",
    "          [125, M, 85, 115, 135],\n",
    "          [225, 85, M, 165, 190],\n",
    "          [155, 115, 165, M, 195],\n",
    "          [215, 135, 190, 195, M]\n",
    "        ]\n",
    "\n",
    "nCity = len(data)\n",
    "\n",
    "route = [0]\n",
    "visited = [0]*nCity \n",
    "\n",
    "from_node = 0\n",
    "visited[from_node] = 1\n",
    "tlength = 0\n",
    "\n",
    "for _ in range(nCity- 1) :\n",
    "    distances = data[from_node]\n",
    "    minDist = M\n",
    "    minidx = 0\n",
    "    for i in range(len(distances)) :\n",
    "        #방문하지 않은 도시 중 minDist를 업데이트해가며 가장 짧은 경로가 저장되게 한다.\n",
    "        if visited[i] == 0 and distances[i] < minDist :\n",
    "            minidx = i\n",
    "            minDist = distances[i]\n",
    "            \n",
    "    route.append(minidx)\n",
    "    tlength = minDist + tlength\n",
    "    from_node = minidx\n",
    "    visited[minidx] = 1\n",
    "    \n",
    "print('route = ', route)\n",
    "print('total length = ', tlength + data[from_node][0])"
   ]
  },
  {
   "cell_type": "markdown",
   "id": "175b8e95",
   "metadata": {},
   "source": [
    "2. OPEN TOUR 문제"
   ]
  },
  {
   "cell_type": "code",
   "execution_count": 27,
   "id": "6c5935fa",
   "metadata": {},
   "outputs": [
    {
     "name": "stdout",
     "output_type": "stream",
     "text": [
      "Total cost = 133.0\n",
      "\n",
      "0방문순서: 5\n",
      "1방문순서: 6\n",
      "2방문순서: 7\n",
      "3방문순서: 8\n",
      "4방문순서: 4\n",
      "5방문순서: 3\n",
      "6방문순서: 2\n",
      "7방문순서: 1\n"
     ]
    }
   ],
   "source": [
    "from ortools.linear_solver import pywraplp\n",
    "M=1000000\n",
    "Dist=[\n",
    "    [M,20,30,25,12,33,44,57,0],\n",
    "    [22,M,19,20,20,29,43,45,0],\n",
    "    [28,19,M,17,35,48,55,60,0],\n",
    "    [25,20,19,M,28,35,40,55,0],\n",
    "    [12,18,34,25,M,21,30,40,0],\n",
    "    [35,25,45,30,20,M,25,39,0],\n",
    "    [47,39,50,35,28,20,M,28,0],\n",
    "    [60,38,54,50,33,40,25,M,0],\n",
    "    [0,0,0,0,0,0,0,0,M]\n",
    "    ]\n",
    "nCity=len(Dist)\n",
    "solver=pywraplp.Solver.CreateSolver('SAT')\n",
    "\n",
    "x={}\n",
    "for i in range(nCity):\n",
    "    for j in range(nCity):\n",
    "        if i!=j:\n",
    "            x[i,j]=solver.BoolVar('x'+str(i)+str(j))\n",
    "u={}\n",
    "for i in range(nCity-1):\n",
    "    u[i]=solver.IntVar(1,nCity-1,'u[%i]'%i)\n",
    "for j in range(nCity):\n",
    "    if j==8:\n",
    "        solver.Add(sum(x[i,j] for i in range(nCity) if i!=j)<=1)\n",
    "    else:\n",
    "        solver.Add(sum(x[i,j] for i in range(nCity) if i!=j)==1)\n",
    "for i in range(nCity):\n",
    "    if i==8:\n",
    "        solver.Add(sum(x[i,j] for j in range(nCity) if i!=j)<=1)\n",
    "    else:\n",
    "        solver.Add(sum(x[i,j] for j in range(nCity) if i!=j)==1)\n",
    "#방문순서제약\n",
    "for i in range(nCity-1):\n",
    "    for j in range(nCity-1):\n",
    "        if i!=j:\n",
    "            solver.Add(u[i]-u[j]+(nCity-1)*x[i,j]<=nCity-2)\n",
    "obj=[]\n",
    "for i in range(nCity):\n",
    "    for j in range(nCity):\n",
    "        if i!=j:\n",
    "            obj.append(Dist[i][j]*x[i,j])\n",
    "solver.Minimize(sum(obj))\n",
    "status=solver.Solve()\n",
    "if status==pywraplp.Solver.OPTIMAL or status==pywraplp.Solver.FEASIBLE:\n",
    "    print(f'Total cost = {solver.Objective().Value():.1f}\\n')\n",
    "    for i in range(nCity-1):\n",
    "        print(f'{i}방문순서: {u[i].solution_value():.0f}')\n",
    "else:\n",
    "    print('No solution found')\n"
   ]
  }
 ],
 "metadata": {
  "kernelspec": {
   "display_name": "old_env",
   "language": "python",
   "name": "python3"
  },
  "language_info": {
   "codemirror_mode": {
    "name": "ipython",
    "version": 3
   },
   "file_extension": ".py",
   "mimetype": "text/x-python",
   "name": "python",
   "nbconvert_exporter": "python",
   "pygments_lexer": "ipython3",
   "version": "3.9.21"
  }
 },
 "nbformat": 4,
 "nbformat_minor": 5
}
